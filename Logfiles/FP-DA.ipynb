{
 "cells": [
  {
   "cell_type": "code",
   "execution_count": 2,
   "metadata": {},
   "outputs": [],
   "source": [
    "import pandas\n",
    "\n",
    "#Load first file with no header\n",
    "df = pandas.read_csv('logfile01.csv', header=None)"
   ]
  },
  {
   "cell_type": "code",
   "execution_count": 3,
   "metadata": {},
   "outputs": [
    {
     "name": "stdout",
     "output_type": "stream",
     "text": [
      "       0          1           2   3  4  5         6  7  8  9\n",
      "0      1  66.276596   83.510083  RB  1  2  response  R  1  1\n",
      "1      2  30.644311   56.233953  RB  1  2  response  R  1  1\n",
      "2      3  30.644311   56.233953  RB  1  2  response  L  0  1\n",
      "3      4  66.823565   37.116590  RB  1  2  response  L  0  1\n",
      "4      5  71.920463   48.187456  RB  1  2  response  L  0  1\n",
      "..   ...        ...         ...  .. .. ..       ... .. .. ..\n",
      "395  396  77.163198   81.104982  II  2  2  response  L  0  1\n",
      "396  397  81.798869   87.212167  II  2  2  response  L  0  1\n",
      "397  398  38.979252   57.596629  II  2  2  response  L  0  0\n",
      "398  399  35.447404  100.000000  II  2  1  response  R  0  1\n",
      "399  400  45.051928   46.381142  II  2  1  response  R  0  1\n",
      "\n",
      "[400 rows x 10 columns]\n"
     ]
    }
   ],
   "source": [
    "print(df)"
   ]
  },
  {
   "cell_type": "code",
   "execution_count": 4,
   "metadata": {},
   "outputs": [
    {
     "name": "stdout",
     "output_type": "stream",
     "text": [
      "<class 'pandas.core.frame.DataFrame'>\n",
      "RangeIndex: 400 entries, 0 to 399\n",
      "Data columns (total 10 columns):\n",
      "0    400 non-null int64\n",
      "1    400 non-null float64\n",
      "2    400 non-null float64\n",
      "3    400 non-null object\n",
      "4    400 non-null int64\n",
      "5    400 non-null int64\n",
      "6    400 non-null object\n",
      "7    400 non-null object\n",
      "8    400 non-null int64\n",
      "9    400 non-null int64\n",
      "dtypes: float64(2), int64(5), object(3)\n",
      "memory usage: 31.4+ KB\n",
      "None\n"
     ]
    }
   ],
   "source": [
    "print(df.info())"
   ]
  },
  {
   "cell_type": "markdown",
   "metadata": {},
   "source": [
    "<h3>Add headers for columns<h3>"
   ]
  },
  {
   "cell_type": "code",
   "execution_count": 5,
   "metadata": {},
   "outputs": [
    {
     "name": "stdout",
     "output_type": "stream",
     "text": [
      "Int64Index([0, 1, 2, 3, 4, 5, 6, 7, 8, 9], dtype='int64')\n"
     ]
    }
   ],
   "source": [
    "print(df.columns)"
   ]
  },
  {
   "cell_type": "code",
   "execution_count": 6,
   "metadata": {},
   "outputs": [
    {
     "name": "stdout",
     "output_type": "stream",
     "text": [
      "Index(['trial', 'freq', 'orient', '', 'task', 'category', '', 'response',\n",
      "       'accuracy', 'feedback'],\n",
      "      dtype='object')\n"
     ]
    }
   ],
   "source": [
    "df.columns = ['trial', 'freq', 'orient', '', 'task', 'category', '', 'response', 'accuracy', 'feedback']\n",
    "print(df.columns)"
   ]
  },
  {
   "cell_type": "code",
   "execution_count": 8,
   "metadata": {},
   "outputs": [
    {
     "name": "stdout",
     "output_type": "stream",
     "text": [
      "   trial       freq     orient      task  category           response  \\\n",
      "0      1  66.276596  83.510083  RB     1         2  response        R   \n",
      "1      2  30.644311  56.233953  RB     1         2  response        R   \n",
      "2      3  30.644311  56.233953  RB     1         2  response        L   \n",
      "3      4  66.823565  37.116590  RB     1         2  response        L   \n",
      "4      5  71.920463  48.187456  RB     1         2  response        L   \n",
      "\n",
      "   accuracy  feedback  \n",
      "0         1         1  \n",
      "1         1         1  \n",
      "2         0         1  \n",
      "3         0         1  \n",
      "4         0         1  \n"
     ]
    }
   ],
   "source": [
    "print(df.head())"
   ]
  },
  {
   "cell_type": "markdown",
   "metadata": {},
   "source": [
    "<h3>Remove columns with string info</h3>"
   ]
  },
  {
   "cell_type": "code",
   "execution_count": 9,
   "metadata": {},
   "outputs": [
    {
     "name": "stdout",
     "output_type": "stream",
     "text": [
      "   trial       freq     orient  task  category response  accuracy  feedback\n",
      "0      1  66.276596  83.510083     1         2        R         1         1\n",
      "1      2  30.644311  56.233953     1         2        R         1         1\n",
      "2      3  30.644311  56.233953     1         2        L         0         1\n",
      "3      4  66.823565  37.116590     1         2        L         0         1\n",
      "4      5  71.920463  48.187456     1         2        L         0         1\n"
     ]
    }
   ],
   "source": [
    "df1 = df.iloc[:,[0, 1, 2, 4, 5, 7, 8, 9]]\n",
    "print(df1.head())"
   ]
  },
  {
   "cell_type": "markdown",
   "metadata": {},
   "source": [
    "<h3>Slice rows</h3>"
   ]
  },
  {
   "cell_type": "markdown",
   "metadata": {},
   "source": [
    "<h4>Tasks</h4>\n",
    "\n",
    "**Rule Based(1):** Category depends on frequency of the Gabor patches.<br>\n",
    "**Information Integration(2):** Category depends on both frequency and orientation of the Gabor patches."
   ]
  },
  {
   "cell_type": "code",
   "execution_count": 11,
   "metadata": {},
   "outputs": [],
   "source": [
    "#slice rows by task\n",
    "df_RB = df1.loc[(df1.loc[:, 'task'] == 1),:]\n",
    "df_II = df1.loc[(df1.loc[:, 'task'] == 2),:]"
   ]
  },
  {
   "cell_type": "code",
   "execution_count": 12,
   "metadata": {},
   "outputs": [
    {
     "name": "stdout",
     "output_type": "stream",
     "text": [
      "   trial       freq     orient  task  category response  accuracy  feedback\n",
      "0      1  66.276596  83.510083     1         2        R         1         1\n",
      "1      2  30.644311  56.233953     1         2        R         1         1\n",
      "2      3  30.644311  56.233953     1         2        L         0         1\n",
      "3      4  66.823565  37.116590     1         2        L         0         1\n",
      "4      5  71.920463  48.187456     1         2        L         0         1\n",
      "     trial       freq     orient  task  category response  accuracy  feedback\n",
      "200    201  31.256847  67.756144     2         1        R         0         1\n",
      "201    202  36.470224  32.602100     2         1        R         0         1\n",
      "202    203  36.470224  32.602100     2         1        L         1         1\n",
      "203    204  74.903235  73.271922     2         1        R         0         1\n",
      "204    205  60.638448  38.466879     2         1        R         0         1\n"
     ]
    }
   ],
   "source": [
    "#check slicing\n",
    "print(df_RB.head())\n",
    "print(df_II.head())"
   ]
  },
  {
   "cell_type": "code",
   "execution_count": 13,
   "metadata": {},
   "outputs": [
    {
     "name": "stdout",
     "output_type": "stream",
     "text": [
      "            trial        freq      orient   task    category    accuracy  \\\n",
      "count  200.000000  200.000000  200.000000  200.0  200.000000  200.000000   \n",
      "mean   100.500000   50.326053   49.305317    1.0    1.500000    0.665000   \n",
      "std     57.879185   19.781143   18.877398    0.0    0.501255    0.473175   \n",
      "min      1.000000   23.507900  -12.125996    1.0    1.000000    0.000000   \n",
      "25%     50.750000   30.625350   36.464633    1.0    1.000000    0.000000   \n",
      "50%    100.500000   65.215504   50.341419    1.0    1.500000    1.000000   \n",
      "75%    150.250000   69.780142   62.329475    1.0    2.000000    1.000000   \n",
      "max    200.000000   75.750308   93.938724    1.0    2.000000    1.000000   \n",
      "\n",
      "         feedback  \n",
      "count  200.000000  \n",
      "mean     0.765000  \n",
      "std      0.425063  \n",
      "min      0.000000  \n",
      "25%      1.000000  \n",
      "50%      1.000000  \n",
      "75%      1.000000  \n",
      "max      1.000000  \n",
      "            trial        freq      orient   task    category    accuracy  \\\n",
      "count  200.000000  200.000000  200.000000  200.0  200.000000  200.000000   \n",
      "mean   300.500000   53.463472   56.108583    2.0    1.520000    0.445000   \n",
      "std     57.879185   20.062804   20.334107    0.0    0.500854    0.498213   \n",
      "min    201.000000    1.000000    1.000000    2.0    1.000000    0.000000   \n",
      "25%    250.750000   39.404952   42.982978    2.0    1.000000    0.000000   \n",
      "50%    300.500000   53.036304   55.391001    2.0    2.000000    0.000000   \n",
      "75%    350.250000   66.752568   69.793085    2.0    2.000000    1.000000   \n",
      "max    400.000000  100.000000  100.000000    2.0    2.000000    1.000000   \n",
      "\n",
      "         feedback  \n",
      "count  200.000000  \n",
      "mean     0.815000  \n",
      "std      0.389272  \n",
      "min      0.000000  \n",
      "25%      1.000000  \n",
      "50%      1.000000  \n",
      "75%      1.000000  \n",
      "max      1.000000  \n"
     ]
    }
   ],
   "source": [
    "#descriptive statistics\n",
    "print(df_RB.describe())\n",
    "print(df_II.describe())"
   ]
  },
  {
   "cell_type": "markdown",
   "metadata": {},
   "source": [
    "<h3>Visualization</h3>"
   ]
  },
  {
   "cell_type": "code",
   "execution_count": 15,
   "metadata": {},
   "outputs": [
    {
     "name": "stdout",
     "output_type": "stream",
     "text": [
      "[0.665, 0.445]\n",
      "[0.4719904660054061, 0.4969657935914711]\n"
     ]
    }
   ],
   "source": [
    "import numpy as np\n",
    "\n",
    "#Get mean and std for accuracy in each task\n",
    "acc_mean =[np.mean(np.abs(df_RB.loc[:, 'accuracy'])), np.mean(np.abs(df_II.loc[:, 'accuracy']))]\n",
    "acc_std = [np.std(np.abs(df_RB.loc[:, 'accuracy'])), np.std(np.abs(df_II.loc[:, 'accuracy']))]\n",
    "print(acc_mean)\n",
    "print(acc_std)\n"
   ]
  },
  {
   "cell_type": "code",
   "execution_count": 24,
   "metadata": {},
   "outputs": [
    {
     "data": {
      "image/png": "[encoded data removed]",
      "text/plain": [
       "<Figure size 432x288 with 1 Axes>"
      ]
     },
     "metadata": {
      "needs_background": "light"
     },
     "output_type": "display_data"
    }
   ],
   "source": [
    "import matplotlib.pyplot as plt\n",
    "import seaborn as sns\n",
    "\n",
    "#plot mean \n",
    "sns.barplot(x= df1.loc[:,'task'], y=df1.loc[:,'accuracy'])\n",
    "plt.show()"
   ]
  },
  {
   "cell_type": "code",
   "execution_count": 45,
   "metadata": {},
   "outputs": [
    {
     "name": "stdout",
     "output_type": "stream",
     "text": [
      "4.528098073810435\n",
      "7.874907862234486e-06\n"
     ]
    }
   ],
   "source": [
    "import scipy.stats as stats\n",
    "\n",
    "t, p = stats.ttest_ind(df_RB.loc[:, 'accuracy'], df_II.loc[:, 'accuracy'])\n",
    "print(t)\n",
    "print(p)"
   ]
  },
  {
   "cell_type": "markdown",
   "metadata": {},
   "source": [
    "<h3>Subject level analysis function</h3>"
   ]
  },
  {
   "cell_type": "code",
   "execution_count": 96,
   "metadata": {},
   "outputs": [],
   "source": [
    "def SubjectStats(fileName):\n",
    "    #read from csv file\n",
    "    df = pandas.read_csv(fileName, header=None)\n",
    "    \n",
    "    #column names\n",
    "    df.columns = ['trial', 'freq', 'orient', '', 'task', 'category', '', 'response', 'accuracy', 'feedback']\n",
    "    \n",
    "    #keep columns with numeric data\n",
    "    df1 = df.iloc[:,[0, 1, 2, 4, 5, 7, 8, 9]]\n",
    "    \n",
    "    #slice rows by task\n",
    "    df_RB = df1.loc[(df1.loc[:, 'task'] == 1),:]\n",
    "    df_II = df1.loc[(df1.loc[:, 'task'] == 2),:]\n",
    "    \n",
    "    #Get mean and std for accuracy in each task\n",
    "    acc_mean_RB = [np.mean(np.abs(df_RB.loc[:, 'accuracy']))]\n",
    "    acc_mean_II = [np.mean(np.abs(df_II.loc[:, 'accuracy']))]\n",
    "    acc_std_RB = [np.std(np.abs(df_RB.loc[:, 'accuracy']))]\n",
    "    acc_std_II = [np.std(np.abs(df_II.loc[:, 'accuracy']))]\n",
    "\n",
    "    #plot mean \n",
    "    sns.barplot(x= df1.loc[:,'task'], y=df1.loc[:,'accuracy'])\n",
    "    plt.show()\n",
    "    \n",
    "    return acc_mean_RB, acc_std_RB, acc_mean_II, acc_std_II"
   ]
  },
  {
   "cell_type": "code",
   "execution_count": 97,
   "metadata": {},
   "outputs": [
    {
     "data": {
      "image/png": "[encoded data removed]",
      "text/plain": [
       "<Figure size 432x288 with 1 Axes>"
      ]
     },
     "metadata": {
      "needs_background": "light"
     },
     "output_type": "display_data"
    },
    {
     "data": {
      "image/png": "[encoded data removed]",
      "text/plain": [
       "<Figure size 432x288 with 1 Axes>"
      ]
     },
     "metadata": {
      "needs_background": "light"
     },
     "output_type": "display_data"
    },
    {
     "data": {
      "image/png": "[encoded data removed]",
      "text/plain": [
       "<Figure size 432x288 with 1 Axes>"
      ]
     },
     "metadata": {
      "needs_background": "light"
     },
     "output_type": "display_data"
    },
    {
     "data": {
      "image/png": "[encoded data removed]",
      "text/plain": [
       "<Figure size 432x288 with 1 Axes>"
      ]
     },
     "metadata": {
      "needs_background": "light"
     },
     "output_type": "display_data"
    },
    {
     "data": {
      "image/png": "[encoded data removed]",
      "text/plain": [
       "<Figure size 432x288 with 1 Axes>"
      ]
     },
     "metadata": {
      "needs_background": "light"
     },
     "output_type": "display_data"
    },
    {
     "name": "stdout",
     "output_type": "stream",
     "text": [
      "(5, 4)\n"
     ]
    }
   ],
   "source": [
    "data = {'acc_mean_RB':[], 'acc_std_RB':[], 'acc_mean_II':[], 'acc_std_II':[]}\n",
    "df = pandas.DataFrame(data=data)\n",
    "for i in range(1, 6):\n",
    "    acc_mean_RB, acc_std_RB, acc_mean_II, acc_std_II = SubjectStats('logfile'+ f\"{i:02d}\"+'.csv')\n",
    "    data = {'acc_mean_RB':[acc_mean_RB], 'acc_std_RB':[acc_std_RB], 'acc_mean_II':[acc_mean_II], 'acc_std_II':[acc_std_II]}\n",
    "    \n",
    "    df1 = pandas.DataFrame(data = data)\n",
    "    df = df.append(df1)\n",
    "\n",
    "print(df.shape)"
   ]
  },
  {
   "cell_type": "markdown",
   "metadata": {},
   "source": [
    "<h3>Group level analysis</h3>"
   ]
  },
  {
   "cell_type": "code",
   "execution_count": 115,
   "metadata": {},
   "outputs": [
    {
     "name": "stdout",
     "output_type": "stream",
     "text": [
      "   id,  trial       freq     orient      task  category           response  \\\n",
      "0    1      1  66.276596  83.510083  RB     1         2  response        R   \n",
      "1    1      2  30.644311  56.233953  RB     1         2  response        R   \n",
      "2    1      3  30.644311  56.233953  RB     1         2  response        L   \n",
      "3    1      4  66.823565  37.116590  RB     1         2  response        L   \n",
      "4    1      5  71.920463  48.187456  RB     1         2  response        L   \n",
      "\n",
      "   accuracy  feedback  \n",
      "0         1         1  \n",
      "1         1         1  \n",
      "2         0         1  \n",
      "3         0         1  \n",
      "4         0         1  \n"
     ]
    }
   ],
   "source": [
    "df = pandas.read_csv('GroupData.csv', header=None)\n",
    "\n",
    "#column names\n",
    "df.columns = ['id,', 'trial', 'freq', 'orient', '', 'task', 'category', '', 'response', 'accuracy', 'feedback']\n",
    "       \n",
    "\n",
    "print(df.head())"
   ]
  },
  {
   "cell_type": "code",
   "execution_count": 116,
   "metadata": {},
   "outputs": [
    {
     "name": "stdout",
     "output_type": "stream",
     "text": [
      "   id,  trial       freq     orient  task  category response  accuracy  \\\n",
      "0    1      1  66.276596  83.510083     1         2        R         1   \n",
      "1    1      2  30.644311  56.233953     1         2        R         1   \n",
      "2    1      3  30.644311  56.233953     1         2        L         0   \n",
      "3    1      4  66.823565  37.116590     1         2        L         0   \n",
      "4    1      5  71.920463  48.187456     1         2        L         0   \n",
      "\n",
      "   feedback  \n",
      "0         1  \n",
      "1         1  \n",
      "2         1  \n",
      "3         1  \n",
      "4         1  \n"
     ]
    }
   ],
   "source": [
    "#keep columns with numeric data\n",
    "df1 = df.iloc[:,[0, 1, 2, 3, 5, 6, 8, 9, 10]]\n",
    "    \n",
    "print(df1.head())"
   ]
  },
  {
   "cell_type": "code",
   "execution_count": 117,
   "metadata": {},
   "outputs": [
    {
     "name": "stdout",
     "output_type": "stream",
     "text": [
      "[0.6026026026026026, 0.5174825174825175]\n",
      "[0.4893594853879594, 0.4996942681104801]\n"
     ]
    }
   ],
   "source": [
    "#slice rows by task\n",
    "df_RB = df1.loc[(df1.loc[:, 'task'] == 1),:]\n",
    "df_II = df1.loc[(df1.loc[:, 'task'] == 2),:]\n",
    "\n",
    "#Get mean and std for accuracy in each task\n",
    "acc_mean =[np.mean(np.abs(df_RB.loc[:, 'accuracy'])), np.mean(np.abs(df_II.loc[:, 'accuracy']))]\n",
    "acc_std = [np.std(np.abs(df_RB.loc[:, 'accuracy'])), np.std(np.abs(df_II.loc[:, 'accuracy']))]\n",
    "print(acc_mean)\n",
    "print(acc_std)"
   ]
  },
  {
   "cell_type": "code",
   "execution_count": 118,
   "metadata": {},
   "outputs": [
    {
     "data": {
      "image/png": "[encoded data removed]",
      "text/plain": [
       "<Figure size 432x288 with 1 Axes>"
      ]
     },
     "metadata": {
      "needs_background": "light"
     },
     "output_type": "display_data"
    }
   ],
   "source": [
    "#plot mean accuracy with all subjects \n",
    "sns.barplot(x= df1.loc[:,'task'], y=df1.loc[:,'accuracy'])\n",
    "plt.show()"
   ]
  },
  {
   "cell_type": "markdown",
   "metadata": {},
   "source": [
    "<h4t>T test</h4>"
   ]
  },
  {
   "cell_type": "code",
   "execution_count": 131,
   "metadata": {},
   "outputs": [
    {
     "name": "stdout",
     "output_type": "stream",
     "text": [
      "3.8466390240562895\n",
      "0.0001235034482973907\n"
     ]
    }
   ],
   "source": [
    "t, p = stats.ttest_ind(df_RB.loc[:, 'accuracy'], df_II.loc[:, 'accuracy'])\n",
    "print(t)\n",
    "print(p)"
   ]
  },
  {
   "cell_type": "code",
   "execution_count": null,
   "metadata": {},
   "outputs": [],
   "source": []
  }
 ],
 "metadata": {
  "kernelspec": {
   "display_name": "Python 3",
   "language": "python",
   "name": "python3"
  },
  "language_info": {
   "codemirror_mode": {
    "name": "ipython",
    "version": 3
   },
   "file_extension": ".py",
   "mimetype": "text/x-python",
   "name": "python",
   "nbconvert_exporter": "python",
   "pygments_lexer": "ipython3",
   "version": "3.7.4"
  }
 },
 "nbformat": 4,
 "nbformat_minor": 2
}
